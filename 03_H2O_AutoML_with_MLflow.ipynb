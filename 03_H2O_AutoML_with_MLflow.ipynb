{
 "cells": [
  {
   "cell_type": "markdown",
   "metadata": {},
   "source": [
    "# End-to-End AutoML for Insurance Cross-Sell\n",
    "\n",
    "## Part 3 - H2O AutoML with MLflow\n",
    "\n",
    "### Contents\n",
    "[Part 1 - Initial Setup](#setup)  \n",
    "[Part 2 - H2O AutoML Training with MLflow Tracking](#automl)  \n",
    "[Part 3 - Predict with H2O AutoML Best Model](#predict)  \n",
    "[Part 4 - H2O Model Explainability](#explain)  \n",
    "[Part 5 - References](#references)"
   ]
  },
  {
   "cell_type": "markdown",
   "metadata": {},
   "source": [
    "___\n",
    "<a name=\"setup\"></a>\n",
    "## (1) Initial Setup"
   ]
  },
  {
   "cell_type": "markdown",
   "metadata": {},
   "source": [
    "___\n",
    "<a name=\"automl\"></a>\n",
    "## (2) H2O AutoML Training with MLFlow Tracking"
   ]
  },
  {
   "cell_type": "markdown",
   "metadata": {},
   "source": [
    "___\n",
    "<a name=\"predict\"></a>\n",
    "## (3) Predict with H2O AutoML Best Model"
   ]
  },
  {
   "cell_type": "markdown",
   "metadata": {},
   "source": [
    "___\n",
    "<a name=\"explain\"></a>\n",
    "## (4) H2O Model Explainability\n",
    "- More info: https://docs.h2o.ai/h2o/latest-stable/h2o-docs/explain.html#output-explanations"
   ]
  }
 ],
 "metadata": {
  "interpreter": {
   "hash": "bdd26ecccbd0f3e40fb5cf5d30fdca40f940aba434b243f1db962da2809839ff"
  },
  "kernelspec": {
   "display_name": "Python 3.10.1 64-bit ('e2e-insurance-cross-sell-prediction-automl-eEZ4gcUa': pipenv)",
   "language": "python",
   "name": "python3"
  },
  "language_info": {
   "name": "python",
   "version": "3.10.1"
  },
  "orig_nbformat": 4
 },
 "nbformat": 4,
 "nbformat_minor": 2
}
