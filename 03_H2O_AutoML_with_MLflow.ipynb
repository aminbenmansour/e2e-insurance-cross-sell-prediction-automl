{
 "cells": [
  {
   "cell_type": "markdown",
   "metadata": {},
   "source": [
    "# End-to-End AutoML for Insurance Cross-Sell\n",
    "\n",
    "## Part 3 - H2O AutoML with MLflow\n",
    "\n",
    "### Contents\n",
    "[Part 1 - Initial Setup](#setup)  \n",
    "[Part 2 - H2O AutoML Training with MLflow Tracking](#automl)  \n",
    "[Part 3 - Predict with H2O AutoML Best Model](#predict)  \n",
    "[Part 4 - H2O Model Explainability](#explain)  \n",
    "[Part 5 - References](#references)"
   ]
  },
  {
   "cell_type": "markdown",
   "metadata": {},
   "source": [
    "___\n",
    "<a name=\"setup\"></a>\n",
    "## (1) Initial Setup"
   ]
  },
  {
   "cell_type": "markdown",
   "metadata": {},
   "source": [
    "### Install pre-requisite dependencies"
   ]
  },
  {
   "cell_type": "code",
   "execution_count": 24,
   "metadata": {},
   "outputs": [
    {
     "name": "stdout",
     "output_type": "stream",
     "text": [
      "Collecting requests\n",
      "  Downloading requests-2.27.1-py2.py3-none-any.whl (63 kB)\n",
      "     |████████████████████████████████| 63 kB 411 kB/s            \n",
      "\u001b[?25hRequirement already satisfied: certifi>=2017.4.17 in /home/amin/.local/share/virtualenvs/e2e-insurance-cross-sell-prediction-automl-eEZ4gcUa/lib/python3.9/site-packages (from requests) (2021.10.8)\n",
      "Collecting urllib3<1.27,>=1.21.1\n",
      "  Downloading urllib3-1.26.8-py2.py3-none-any.whl (138 kB)\n",
      "     |████████████████████████████████| 138 kB 840 kB/s            \n",
      "\u001b[?25hRequirement already satisfied: idna<4,>=2.5 in /home/amin/.local/share/virtualenvs/e2e-insurance-cross-sell-prediction-automl-eEZ4gcUa/lib/python3.9/site-packages (from requests) (2.10)\n",
      "Collecting charset-normalizer~=2.0.0\n",
      "  Downloading charset_normalizer-2.0.10-py3-none-any.whl (39 kB)\n",
      "Installing collected packages: urllib3, charset-normalizer, requests\n",
      "\u001b[31mERROR: pip's dependency resolver does not currently take into account all the packages that are installed. This behaviour is the source of the following dependency conflicts.\n",
      "h2o 3.34.0.3 requires tabulate, which is not installed.\n",
      "docker 5.0.3 requires websocket-client>=0.32.0, which is not installed.\n",
      "databricks-cli 0.16.2 requires six>=1.10.0, which is not installed.\n",
      "databricks-cli 0.16.2 requires tabulate>=0.7.7, which is not installed.\u001b[0m\n",
      "Successfully installed charset-normalizer-2.0.10 requests-2.27.1 urllib3-1.26.8\n",
      "Collecting tabulate\n",
      "  Downloading tabulate-0.8.9-py3-none-any.whl (25 kB)\n",
      "Installing collected packages: tabulate\n",
      "\u001b[31mERROR: pip's dependency resolver does not currently take into account all the packages that are installed. This behaviour is the source of the following dependency conflicts.\n",
      "databricks-cli 0.16.2 requires six>=1.10.0, which is not installed.\u001b[0m\n",
      "Successfully installed tabulate-0.8.9\n",
      "Requirement already satisfied: future in /home/amin/.local/share/virtualenvs/e2e-insurance-cross-sell-prediction-automl-eEZ4gcUa/lib/python3.9/site-packages (0.18.2)\n"
     ]
    }
   ],
   "source": [
    "!pip install requests\n",
    "!pip install tabulate\n",
    "!pip install future"
   ]
  },
  {
   "cell_type": "markdown",
   "metadata": {},
   "source": [
    "### Install H2O in Python"
   ]
  },
  {
   "cell_type": "code",
   "execution_count": 25,
   "metadata": {},
   "outputs": [
    {
     "name": "stdout",
     "output_type": "stream",
     "text": [
      "Looking in links: http://h2o-release.s3.amazonaws.com/h2o/latest_stable_Py.html\n",
      "Requirement already satisfied: h2o in /home/amin/.local/share/virtualenvs/e2e-insurance-cross-sell-prediction-automl-eEZ4gcUa/lib/python3.9/site-packages (3.34.0.3)\n",
      "Requirement already satisfied: tabulate in /home/amin/.local/share/virtualenvs/e2e-insurance-cross-sell-prediction-automl-eEZ4gcUa/lib/python3.9/site-packages (from h2o) (0.8.9)\n",
      "Requirement already satisfied: requests in /home/amin/.local/share/virtualenvs/e2e-insurance-cross-sell-prediction-automl-eEZ4gcUa/lib/python3.9/site-packages (from h2o) (2.27.1)\n",
      "Requirement already satisfied: future in /home/amin/.local/share/virtualenvs/e2e-insurance-cross-sell-prediction-automl-eEZ4gcUa/lib/python3.9/site-packages (from h2o) (0.18.2)\n",
      "Requirement already satisfied: charset-normalizer~=2.0.0 in /home/amin/.local/share/virtualenvs/e2e-insurance-cross-sell-prediction-automl-eEZ4gcUa/lib/python3.9/site-packages (from requests->h2o) (2.0.10)\n",
      "Requirement already satisfied: idna<4,>=2.5 in /home/amin/.local/share/virtualenvs/e2e-insurance-cross-sell-prediction-automl-eEZ4gcUa/lib/python3.9/site-packages (from requests->h2o) (2.10)\n",
      "Requirement already satisfied: urllib3<1.27,>=1.21.1 in /home/amin/.local/share/virtualenvs/e2e-insurance-cross-sell-prediction-automl-eEZ4gcUa/lib/python3.9/site-packages (from requests->h2o) (1.26.8)\n",
      "Requirement already satisfied: certifi>=2017.4.17 in /home/amin/.local/share/virtualenvs/e2e-insurance-cross-sell-prediction-automl-eEZ4gcUa/lib/python3.9/site-packages (from requests->h2o) (2021.10.8)\n"
     ]
    }
   ],
   "source": [
    "!pip install -f http://h2o-release.s3.amazonaws.com/h2o/latest_stable_Py.html h2o"
   ]
  },
  {
   "cell_type": "markdown",
   "metadata": {},
   "source": [
    "### Install MLflow"
   ]
  },
  {
   "cell_type": "code",
   "execution_count": 26,
   "metadata": {},
   "outputs": [
    {
     "name": "stdout",
     "output_type": "stream",
     "text": [
      "Collecting mlflow\n",
      "  Downloading mlflow-1.23.0-py3-none-any.whl (15.6 MB)\n",
      "     |████████████████████████████████| 15.6 MB 25 kB/s             \n",
      "\u001b[?25hRequirement already satisfied: Flask in /home/amin/.local/share/virtualenvs/e2e-insurance-cross-sell-prediction-automl-eEZ4gcUa/lib/python3.9/site-packages (from mlflow) (2.0.2)\n",
      "Collecting sqlalchemy\n",
      "  Downloading SQLAlchemy-1.4.30-cp39-cp39-manylinux_2_5_x86_64.manylinux1_x86_64.manylinux_2_17_x86_64.manylinux2014_x86_64.whl (1.6 MB)\n",
      "     |████████████████████████████████| 1.6 MB 37 kB/s             \n",
      "\u001b[?25hRequirement already satisfied: click>=7.0 in /home/amin/.local/share/virtualenvs/e2e-insurance-cross-sell-prediction-automl-eEZ4gcUa/lib/python3.9/site-packages (from mlflow) (7.1.2)\n",
      "Requirement already satisfied: gunicorn in /home/amin/.local/share/virtualenvs/e2e-insurance-cross-sell-prediction-automl-eEZ4gcUa/lib/python3.9/site-packages (from mlflow) (20.1.0)\n",
      "Collecting protobuf>=3.7.0\n",
      "  Downloading protobuf-3.19.3-cp39-cp39-manylinux_2_17_x86_64.manylinux2014_x86_64.whl (1.1 MB)\n",
      "     |████████████████████████████████| 1.1 MB 2.1 MB/s            \n",
      "\u001b[?25hRequirement already satisfied: cloudpickle in /home/amin/.local/share/virtualenvs/e2e-insurance-cross-sell-prediction-automl-eEZ4gcUa/lib/python3.9/site-packages (from mlflow) (2.0.0)\n",
      "Collecting packaging\n",
      "  Downloading packaging-21.3-py3-none-any.whl (40 kB)\n",
      "     |████████████████████████████████| 40 kB 1.3 MB/s            \n",
      "\u001b[?25hCollecting sqlparse>=0.3.1\n",
      "  Using cached sqlparse-0.4.2-py3-none-any.whl (42 kB)\n",
      "Collecting prometheus-flask-exporter\n",
      "  Downloading prometheus_flask_exporter-0.18.7-py3-none-any.whl (17 kB)\n",
      "Requirement already satisfied: requests>=2.17.3 in /home/amin/.local/share/virtualenvs/e2e-insurance-cross-sell-prediction-automl-eEZ4gcUa/lib/python3.9/site-packages (from mlflow) (2.27.1)\n",
      "Collecting querystring-parser\n",
      "  Downloading querystring_parser-1.2.4-py2.py3-none-any.whl (7.9 kB)\n",
      "Collecting pytz\n",
      "  Downloading pytz-2021.3-py2.py3-none-any.whl (503 kB)\n",
      "     |████████████████████████████████| 503 kB 543 kB/s            \n",
      "\u001b[?25hRequirement already satisfied: entrypoints in /home/amin/.local/share/virtualenvs/e2e-insurance-cross-sell-prediction-automl-eEZ4gcUa/lib/python3.9/site-packages (from mlflow) (0.3)\n",
      "Requirement already satisfied: databricks-cli>=0.8.7 in /home/amin/.local/share/virtualenvs/e2e-insurance-cross-sell-prediction-automl-eEZ4gcUa/lib/python3.9/site-packages (from mlflow) (0.16.2)\n",
      "Collecting scipy\n",
      "  Downloading scipy-1.7.3-cp39-cp39-manylinux_2_17_x86_64.manylinux2014_x86_64.whl (39.8 MB)\n",
      "     |████████████████████████████████| 39.8 MB 89 kB/s             \n",
      "\u001b[?25hCollecting numpy\n",
      "  Downloading numpy-1.22.1-cp39-cp39-manylinux_2_17_x86_64.manylinux2014_x86_64.whl (16.8 MB)\n",
      "     |████████████████████████████████| 16.8 MB 212 kB/s            \n",
      "\u001b[?25hRequirement already satisfied: gitpython>=2.1.0 in /home/amin/.local/share/virtualenvs/e2e-insurance-cross-sell-prediction-automl-eEZ4gcUa/lib/python3.9/site-packages (from mlflow) (3.1.26)\n",
      "Requirement already satisfied: alembic in /home/amin/.local/share/virtualenvs/e2e-insurance-cross-sell-prediction-automl-eEZ4gcUa/lib/python3.9/site-packages (from mlflow) (1.7.5)\n",
      "Requirement already satisfied: docker>=4.0.0 in /home/amin/.local/share/virtualenvs/e2e-insurance-cross-sell-prediction-automl-eEZ4gcUa/lib/python3.9/site-packages (from mlflow) (5.0.3)\n",
      "Collecting pyyaml>=5.1\n",
      "  Downloading PyYAML-6.0-cp39-cp39-manylinux_2_5_x86_64.manylinux1_x86_64.manylinux_2_12_x86_64.manylinux2010_x86_64.whl (661 kB)\n",
      "     |████████████████████████████████| 661 kB 1.1 MB/s            \n",
      "\u001b[?25hCollecting importlib-metadata!=4.7.0,>=3.7.0\n",
      "  Downloading importlib_metadata-4.10.1-py3-none-any.whl (17 kB)\n",
      "Collecting pandas\n",
      "  Downloading pandas-1.3.5-cp39-cp39-manylinux_2_17_x86_64.manylinux2014_x86_64.whl (11.5 MB)\n",
      "     |██████████████████████████▏     | 9.4 MB 813 kB/s eta 0:00:03"
     ]
    }
   ],
   "source": [
    "!pip install mlflow"
   ]
  },
  {
   "cell_type": "markdown",
   "metadata": {},
   "source": [
    "### Import dependencies and datasets"
   ]
  },
  {
   "cell_type": "code",
   "execution_count": 1,
   "metadata": {},
   "outputs": [],
   "source": [
    "# Import libraries\n",
    "import h2o\n",
    "from h2o.automl import H2OAutoML, get_leaderboard\n",
    "\n",
    "import mlflow\n",
    "import mlflow.h2o\n",
    "from mlflow.tracking import MlflowClient\n",
    "from mlflow.entities import ViewType\n",
    "\n",
    "import pandas as pd\n",
    "import json\n",
    "\n",
    "from sklearn.metrics import f1_score, accuracy_score\n",
    "\n",
    "pd.set_option('display.max_columns', None)\n",
    "pd.set_option('display.max_rows', None)\n",
    "\n",
    "import warnings\n",
    "warnings.filterwarnings(\"ignore\")"
   ]
  },
  {
   "cell_type": "markdown",
   "metadata": {},
   "source": [
    "___\n",
    "<a name=\"automl\"></a>\n",
    "## (2) H2O AutoML Training with MLFlow Tracking"
   ]
  },
  {
   "cell_type": "markdown",
   "metadata": {},
   "source": [
    "___\n",
    "<a name=\"predict\"></a>\n",
    "## (3) Predict with H2O AutoML Best Model"
   ]
  },
  {
   "cell_type": "markdown",
   "metadata": {},
   "source": [
    "___\n",
    "<a name=\"explain\"></a>\n",
    "## (4) H2O Model Explainability\n",
    "- More info: https://docs.h2o.ai/h2o/latest-stable/h2o-docs/explain.html#output-explanations"
   ]
  }
 ],
 "metadata": {
  "interpreter": {
   "hash": "bdd26ecccbd0f3e40fb5cf5d30fdca40f940aba434b243f1db962da2809839ff"
  },
  "kernelspec": {
   "display_name": "Python 3.10.1 64-bit ('e2e-insurance-cross-sell-prediction-automl-eEZ4gcUa': pipenv)",
   "language": "python",
   "name": "python3"
  },
  "language_info": {
   "codemirror_mode": {
    "name": "ipython",
    "version": 3
   },
   "file_extension": ".py",
   "mimetype": "text/x-python",
   "name": "python",
   "nbconvert_exporter": "python",
   "pygments_lexer": "ipython3",
   "version": "3.9.10"
  },
  "orig_nbformat": 4
 },
 "nbformat": 4,
 "nbformat_minor": 2
}
