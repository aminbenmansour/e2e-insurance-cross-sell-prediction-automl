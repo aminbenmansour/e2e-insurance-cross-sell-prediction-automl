{
 "cells": [
  {
   "cell_type": "markdown",
   "metadata": {},
   "source": [
    "# End-to-End AutoML for Insurance Cross-Sell\n",
    "\n",
    "## Part 1 - EDA and Data Pre-Processing\n",
    "\n",
    "### Contents\n",
    "\n",
    "[Part 1 - Project Overview](#overview)\n",
    "[Part 2 - Initial Setup](#setup)\n",
    "[Part 3 - Exploratory Data Analysis](#eda)\n",
    "[Part 4 - Data Pre-Processing and Transformation](#pre-processing) \n",
    "[Part 5 - References](#references)"
   ]
  },
  {
   "cell_type": "markdown",
   "metadata": {},
   "source": [
    "## (1) Project Overview\n",
    "\n",
    "**The Challenge**\n",
    "- Insurance Cross-Sell Model: Predict which existing health insurance customers would be interested in purchasing vehicle insurance as well\n",
    "- This is a binary classification task\n",
    "\n",
    "Link: https://www.kaggle.com/anmolkumar/health-insurance-cross-sell-prediction"
   ]
  },
  {
   "cell_type": "markdown",
   "metadata": {},
   "source": [
    "**The Data**\n",
    "In this dataset, you are provided variables describing attributes of health insurance applicants. The task is to predict the \"Response\" variable for each Id in the test set\n",
    "\n",
    "**id:** Unique ID for the customer\n",
    "**Gender:** Gender of the customer\n",
    "**Age:** Age of the customer\n",
    "**Driving_License:** 0 : Customer does not have DL, 1 : Customer already has DL\n",
    "**Region_Code:** Unique code for the region of the customer\n",
    "**Previously_Insured:** 1 : Customer already has Vehicle Insurance, 0 : Customer doesn't have Vehicle Insurance\n",
    "**Vehicle_Age:** Age of the Vehicle\n",
    "**Vehicle_Damage:** 1 : Customer got his/her vehicle damaged in the past. 0 : Customer didn't get his/her vehicle damaged in the past.\n",
    "**Annual_Premium:** The amount customer needs to pay as premium in the year\n",
    "**PolicySalesChannel:** Anonymized Code for the channel of outreaching to the customer ie. Different Agents, Over Mail, Over Phone, In Person, etc.\n",
    "**Vintage:** Number of Days that the customer has been associated with the company\n",
    "**Response:** 1 : Customer is interested, 0 : Customer is not interested\n",
    "\n"
   ]
  },
  {
   "cell_type": "markdown",
   "metadata": {},
   "source": [
    "\n",
    "## (2) Initial Setup"
   ]
  },
  {
   "cell_type": "markdown",
   "metadata": {},
   "source": [
    "## (3) Exploratory Data Analysis (EDA)"
   ]
  },
  {
   "cell_type": "markdown",
   "metadata": {},
   "source": [
    "## (4) Data Pre-Processing and Transformation"
   ]
  }
 ],
 "metadata": {
  "language_info": {
   "name": "python"
  },
  "orig_nbformat": 4
 },
 "nbformat": 4,
 "nbformat_minor": 2
}
