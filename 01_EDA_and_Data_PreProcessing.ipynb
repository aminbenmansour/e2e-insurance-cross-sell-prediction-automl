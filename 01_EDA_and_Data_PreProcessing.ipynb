{
 "cells": [
  {
   "cell_type": "markdown",
   "metadata": {},
   "source": [
    "# End-to-End AutoML for Insurance Cross-Sell\n",
    "\n",
    "## Part 1 - EDA and Data Pre-Processing\n",
    "\n",
    "\n",
    "### Contents\n",
    "[Part 1 - Project Overview](#overview)  \n",
    "[Part 2 - Initial Setup](#setup)  \n",
    "[Part 3 - Exploratory Data Analysis](#eda)  \n",
    "[Part 4 - Data Pre-Processing and Transformation](#pre-processing)  \n",
    "[Part 5 - References](#references) "
   ]
  },
  {
   "cell_type": "markdown",
   "metadata": {},
   "source": [
    "___\n",
    "<a name=\"overview\"></a>\n",
    "## (1) Project Overview\n",
    "\n",
    "**The Challenge**  \n",
    "- Insurance Cross-Sell Model: Predict which existing health insurance customers would be interested in purchasing vehicle insurance as well\n",
    "- This is a binary classification task\n",
    "\n",
    "Link: https://www.kaggle.com/anmolkumar/health-insurance-cross-sell-prediction\n",
    "___\n",
    "**The Data**  \n",
    "In this dataset, you are provided variables describing attributes of health insurance applicants. The task is to predict the \"Response\" variable for each Id in the test set \n",
    "___\n",
    "**id:**\tUnique ID for the customer  \n",
    "**Gender:**\tGender of the customer  \n",
    "**Age:** Age of the customer  \n",
    "**Driving_License:** 0 : Customer does not have DL, 1 : Customer already has DL  \n",
    "**Region_Code:** Unique code for the region of the customer  \n",
    "**Previously_Insured:**\t1 : Customer already has Vehicle Insurance, 0 : Customer doesn't have Vehicle Insurance  \n",
    "**Vehicle_Age:** Age of the Vehicle  \n",
    "**Vehicle_Damage:**\t1 : Customer got his/her vehicle damaged in the past. 0 : Customer didn't get his/her vehicle damaged in the past.  \n",
    "**Annual_Premium:**\tThe amount customer needs to pay as premium in the year  \n",
    "**PolicySalesChannel:**\tAnonymized Code for the channel of outreaching to the customer ie. Different Agents, Over Mail, Over Phone, In Person, etc.  \n",
    "**Vintage:** Number of Days that the customer has been associated with the company  \n",
    "**Response**: 1 : Customer is interested, 0 : Customer is not interested  "
   ]
  },
  {
   "cell_type": "markdown",
   "metadata": {},
   "source": [
    "<a name=\"setup\"></a>\n",
    "## (2) Initial Setup"
   ]
  },
  {
   "cell_type": "markdown",
   "metadata": {},
   "source": [
    "### Import dependencies"
   ]
  },
  {
   "cell_type": "code",
   "execution_count": 2,
   "metadata": {},
   "outputs": [],
   "source": [
    "import numpy as np\n",
    "import pandas as pd\n",
    "import matplotlib.pyplot as plt\n",
    "import seaborn as sns\n",
    "%matplotlib inline\n",
    "\n",
    "from sklearn.preprocessing import StandardScaler, LabelEncoder, OrdinalEncoder, MinMaxScaler\n",
    "from sklearn.impute import SimpleImputer\n",
    "from sklearn.pipeline import Pipeline\n",
    "from sklearn import metrics\n",
    "\n",
    "import opendatasets as od\n",
    "import zipfile\n",
    "import os\n",
    "import shutil\n",
    "import pickle\n",
    "\n",
    "pd.set_option('display.max_columns', None)\n",
    "pd.set_option('display.max_rows', None)\n",
    "\n",
    "import warnings\n",
    "warnings.filterwarnings(\"ignore\")"
   ]
  },
  {
   "cell_type": "markdown",
   "metadata": {},
   "source": [
    "### Download Datasets\n",
    "To use the Kaggle API, sign up for a Kaggle account at https://www.kaggle.com. Then go to the 'Account' tab of your user profile (https://www.kaggle.com/<username>/account) and select 'Create API Token'. This will trigger the download of kaggle.json, a file containing your API credentials."
   ]
  },
  {
   "cell_type": "code",
   "execution_count": 6,
   "metadata": {},
   "outputs": [
    {
     "name": "stdout",
     "output_type": "stream",
     "text": [
      "Downloading health-insurance-cross-sell-prediction.zip to ./data/raw/health-insurance-cross-sell-prediction\n"
     ]
    },
    {
     "name": "stderr",
     "output_type": "stream",
     "text": [
      "100%|██████████| 6.47M/6.47M [00:03<00:00, 2.19MB/s]\n"
     ]
    },
    {
     "name": "stdout",
     "output_type": "stream",
     "text": [
      "\n"
     ]
    }
   ],
   "source": [
    "# Retrieve data directly from source (using Kaggle API credentials, found in kaggle.json)\n",
    "od.download(\"https://www.kaggle.com/anmolkumar/health-insurance-cross-sell-prediction\",\n",
    "           './data/raw/')"
   ]
  },
  {
   "cell_type": "code",
   "execution_count": 7,
   "metadata": {},
   "outputs": [
    {
     "data": {
      "text/plain": [
       "['test.csv', 'train.csv', 'sample_submission.csv']"
      ]
     },
     "execution_count": 7,
     "metadata": {},
     "output_type": "execute_result"
    }
   ],
   "source": [
    "# View files in the raw folder\n",
    "raw_path = './data/raw/health-insurance-cross-sell-prediction/'\n",
    "os.listdir(raw_path)"
   ]
  },
  {
   "cell_type": "code",
   "execution_count": 8,
   "metadata": {},
   "outputs": [],
   "source": [
    "# Move train and test flat files into input folder\n",
    "for filename in os.listdir(raw_path):\n",
    "    if 'train' in filename or 'test' in filename:\n",
    "        shutil.copy(raw_path+filename, './data/input/'+filename)"
   ]
  },
  {
   "cell_type": "markdown",
   "metadata": {},
   "source": [
    "### Import Data"
   ]
  },
  {
   "cell_type": "code",
   "execution_count": null,
   "metadata": {},
   "outputs": [],
   "source": [
    "# Import input datasets\n",
    "main_df = pd.read_csv('data/input/train.csv')\n",
    "\n",
    "# Keep only random 1/3 sample of data (to optimize size for training)\n",
    "main_df = main_df.sample(frac=0.3, replace=False, random_state=42).reset_index(drop=True)\n",
    "\n",
    "len(main_df)"
   ]
  },
  {
   "cell_type": "markdown",
   "metadata": {},
   "source": [
    "Note: We are not using the test.csv dataset because it does not have the target `Response` variable, and we will not be submitting our predictions to Kaggle"
   ]
  },
  {
   "cell_type": "markdown",
   "metadata": {},
   "source": [
    "### Setup helper functions"
   ]
  },
  {
   "cell_type": "code",
   "execution_count": null,
   "metadata": {},
   "outputs": [],
   "source": [
    "# Display value counts and NaN counts\n",
    "def show_value_counts(df, column):\n",
    "    value_count_df = pd.DataFrame(df[column].value_counts().rename_axis(column).reset_index(name='counts'))\n",
    "    value_count_df['percentage'] = round(100 * (value_count_df['counts'] / len(df)),1)\n",
    "    return value_count_df\n",
    "\n",
    "def show_nan_counts(df):\n",
    "    nan_count_df = pd.DataFrame(df.isna().sum()).sort_values(by=0, ascending = False)\n",
    "    nan_count_df.columns = ['counts']\n",
    "    nan_count_df['percentage'] = round(100 * (nan_count_df['counts'] / len(df)),1)\n",
    "    return nan_count_df\n",
    "\n",
    "# Display correlation plot as heatmap\n",
    "def show_heatmap(data, figsize=(12,8), \n",
    "                 highest_only=False, \n",
    "                 thresold=0.7, # Look at only highly correlated pairs\n",
    "                 annot=False):\n",
    "    correlation_matrix = data.corr()\n",
    "    high_corr = correlation_matrix[np.abs(correlation_matrix)>= thresold]\n",
    "    plt.figure(figsize=figsize)\n",
    "\n",
    "    if highest_only:\n",
    "        sns.heatmap(high_corr, annot=annot, cmap=\"Greens\", \n",
    "                    linecolor='black', linewidths=0.1)\n",
    "    else:\n",
    "        sns.heatmap(correlation_matrix, annot=annot)"
   ]
  },
  {
   "cell_type": "markdown",
   "metadata": {},
   "source": [
    "\n",
    "## (3) Exploratory Data Analysis (EDA)"
   ]
  },
  {
   "cell_type": "markdown",
   "metadata": {},
   "source": [
    "<a name=\"pre-processing\"></a>\n",
    "## (4) Data Pre-Processing and Transformation"
   ]
  }
 ],
 "metadata": {
  "interpreter": {
   "hash": "bdd26ecccbd0f3e40fb5cf5d30fdca40f940aba434b243f1db962da2809839ff"
  },
  "kernelspec": {
   "display_name": "Python 3.10.1 64-bit ('e2e-insurance-cross-sell-prediction-automl-eEZ4gcUa': pipenv)",
   "language": "python",
   "name": "python3"
  },
  "language_info": {
   "codemirror_mode": {
    "name": "ipython",
    "version": 3
   },
   "file_extension": ".py",
   "mimetype": "text/x-python",
   "name": "python",
   "nbconvert_exporter": "python",
   "pygments_lexer": "ipython3",
   "version": "3.10.1"
  },
  "orig_nbformat": 4
 },
 "nbformat": 4,
 "nbformat_minor": 2
}
