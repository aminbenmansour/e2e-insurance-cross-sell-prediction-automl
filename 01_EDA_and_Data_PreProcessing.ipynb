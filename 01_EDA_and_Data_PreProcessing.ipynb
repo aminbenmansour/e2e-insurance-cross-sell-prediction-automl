{
 "cells": [
  {
   "cell_type": "markdown",
   "metadata": {},
   "source": [
    "# End-to-End AutoML for Insurance Cross-Sell\n",
    "\n",
    "## Part 1 - EDA and Data Pre-Processing\n",
    "\n",
    "\n",
    "### Contents\n",
    "[Part 1 - Project Overview](#overview)  \n",
    "[Part 2 - Initial Setup](#setup)  \n",
    "[Part 3 - Exploratory Data Analysis](#eda)  \n",
    "[Part 4 - Data Pre-Processing and Transformation](#pre-processing)  \n",
    "[Part 5 - References](#references) "
   ]
  },
  {
   "cell_type": "markdown",
   "metadata": {},
   "source": [
    "___\n",
    "<a name=\"overview\"></a>\n",
    "## (1) Project Overview\n",
    "\n",
    "**The Challenge**  \n",
    "- Insurance Cross-Sell Model: Predict which existing health insurance customers would be interested in purchasing vehicle insurance as well\n",
    "- This is a binary classification task\n",
    "\n",
    "Link: https://www.kaggle.com/anmolkumar/health-insurance-cross-sell-prediction\n",
    "___\n",
    "**The Data**  \n",
    "In this dataset, you are provided variables describing attributes of health insurance applicants. The task is to predict the \"Response\" variable for each Id in the test set \n",
    "___\n",
    "**id:**\tUnique ID for the customer  \n",
    "**Gender:**\tGender of the customer  \n",
    "**Age:** Age of the customer  \n",
    "**Driving_License:** 0 : Customer does not have DL, 1 : Customer already has DL  \n",
    "**Region_Code:** Unique code for the region of the customer  \n",
    "**Previously_Insured:**\t1 : Customer already has Vehicle Insurance, 0 : Customer doesn't have Vehicle Insurance  \n",
    "**Vehicle_Age:** Age of the Vehicle  \n",
    "**Vehicle_Damage:**\t1 : Customer got his/her vehicle damaged in the past. 0 : Customer didn't get his/her vehicle damaged in the past.  \n",
    "**Annual_Premium:**\tThe amount customer needs to pay as premium in the year  \n",
    "**PolicySalesChannel:**\tAnonymized Code for the channel of outreaching to the customer ie. Different Agents, Over Mail, Over Phone, In Person, etc.  \n",
    "**Vintage:** Number of Days that the customer has been associated with the company  \n",
    "**Response**: 1 : Customer is interested, 0 : Customer is not interested  "
   ]
  },
  {
   "cell_type": "markdown",
   "metadata": {},
   "source": [
    "<a name=\"setup\"></a>\n",
    "## (2) Initial Setup"
   ]
  },
  {
   "cell_type": "markdown",
   "metadata": {},
   "source": [
    "### Import dependencies"
   ]
  },
  {
   "cell_type": "code",
   "execution_count": 2,
   "metadata": {},
   "outputs": [],
   "source": [
    "import numpy as np\n",
    "import pandas as pd\n",
    "import matplotlib.pyplot as plt\n",
    "import seaborn as sns\n",
    "%matplotlib inline\n",
    "\n",
    "from sklearn.preprocessing import StandardScaler, LabelEncoder, OrdinalEncoder, MinMaxScaler\n",
    "from sklearn.impute import SimpleImputer\n",
    "from sklearn.pipeline import Pipeline\n",
    "from sklearn import metrics\n",
    "\n",
    "import opendatasets as od\n",
    "import zipfile\n",
    "import os\n",
    "import shutil\n",
    "import pickle\n",
    "\n",
    "pd.set_option('display.max_columns', None)\n",
    "pd.set_option('display.max_rows', None)\n",
    "\n",
    "import warnings\n",
    "warnings.filterwarnings(\"ignore\")"
   ]
  },
  {
   "cell_type": "markdown",
   "metadata": {},
   "source": [
    "### Download Datasets\n",
    "To use the Kaggle API, sign up for a Kaggle account at https://www.kaggle.com. Then go to the 'Account' tab of your user profile (https://www.kaggle.com/<username>/account) and select 'Create API Token'. This will trigger the download of kaggle.json, a file containing your API credentials."
   ]
  },
  {
   "cell_type": "code",
   "execution_count": 6,
   "metadata": {},
   "outputs": [
    {
     "name": "stdout",
     "output_type": "stream",
     "text": [
      "Downloading health-insurance-cross-sell-prediction.zip to ./data/raw/health-insurance-cross-sell-prediction\n"
     ]
    },
    {
     "name": "stderr",
     "output_type": "stream",
     "text": [
      "100%|██████████| 6.47M/6.47M [00:03<00:00, 2.19MB/s]\n"
     ]
    },
    {
     "name": "stdout",
     "output_type": "stream",
     "text": [
      "\n"
     ]
    }
   ],
   "source": [
    "# Retrieve data directly from source (using Kaggle API credentials, found in kaggle.json)\n",
    "od.download(\"https://www.kaggle.com/anmolkumar/health-insurance-cross-sell-prediction\",\n",
    "           './data/raw/')"
   ]
  },
  {
   "cell_type": "markdown",
   "metadata": {},
   "source": [
    "\n",
    "## (3) Exploratory Data Analysis (EDA)"
   ]
  },
  {
   "cell_type": "markdown",
   "metadata": {},
   "source": [
    "<a name=\"pre-processing\"></a>\n",
    "## (4) Data Pre-Processing and Transformation"
   ]
  }
 ],
 "metadata": {
  "interpreter": {
   "hash": "bdd26ecccbd0f3e40fb5cf5d30fdca40f940aba434b243f1db962da2809839ff"
  },
  "kernelspec": {
   "display_name": "Python 3.10.1 64-bit ('e2e-insurance-cross-sell-prediction-automl-eEZ4gcUa': pipenv)",
   "language": "python",
   "name": "python3"
  },
  "language_info": {
   "codemirror_mode": {
    "name": "ipython",
    "version": 3
   },
   "file_extension": ".py",
   "mimetype": "text/x-python",
   "name": "python",
   "nbconvert_exporter": "python",
   "pygments_lexer": "ipython3",
   "version": "3.10.1"
  },
  "orig_nbformat": 4
 },
 "nbformat": 4,
 "nbformat_minor": 2
}
